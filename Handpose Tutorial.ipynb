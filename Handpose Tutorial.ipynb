{
 "cells": [
  {
   "cell_type": "markdown",
   "metadata": {},
   "source": [
    "# 1. Install and Import Dependencies"
   ]
  },
  {
   "cell_type": "code",
   "execution_count": null,
   "metadata": {},
   "outputs": [],
   "source": [
    "!pip install mediapipe opencv-python"
   ]
  },
  {
   "cell_type": "code",
   "execution_count": null,
   "metadata": {},
   "outputs": [],
   "source": [
    "import mediapipe as mp\n",
    "import cv2\n",
    "import numpy as np\n",
    "from numpy import interp\n",
    "import uuid\n",
    "import os\n",
    "from typing import Mapping, Tuple\n",
    "from mediapipe.python.solutions import drawing_styles"
   ]
  },
  {
   "cell_type": "code",
   "execution_count": null,
   "metadata": {},
   "outputs": [],
   "source": [
    "mp_drawing = mp.solutions.drawing_utils\n",
    "mp_drawing_styles = mp.solutions.drawing_styles\n",
    "mp_hands = mp.solutions.hands"
   ]
  },
  {
   "cell_type": "markdown",
   "metadata": {},
   "source": [
    "# 2. Draw Hands\n",
    "<img src=https://i.imgur.com/qpRACer.png />"
   ]
  },
  {
   "cell_type": "code",
   "execution_count": null,
   "metadata": {},
   "outputs": [],
   "source": [
    "def getColor(zDist):\n",
    "    print(zDist)\n",
    "    c = int(interp(zDist, [0,15], [0,255]))\n",
    "    return (c,c,c)"
   ]
  },
  {
   "cell_type": "code",
   "execution_count": null,
   "metadata": {},
   "outputs": [],
   "source": [
    "def createLandMarks(hand_landmarks): #-> Mapping[int, mp_drawing.DrawingSpec]:\n",
    "  hand_landmark_style = {}  \n",
    "  for k, v in drawing_styles._HAND_LANDMARK_STYLE.items():\n",
    "    for landmark in k:\n",
    "      c = getColor(abs(hand_landmarks.landmark[landmark].z*100))\n",
    "      r = int(abs(hand_landmarks.landmark[landmark].z*100))\n",
    "      hand_landmark_style[landmark] =   mp_drawing.DrawingSpec(color=c, thickness=drawing_styles._THICKNESS_DOT, circle_radius= r )\n",
    "  return hand_landmark_style        "
   ]
  },
  {
   "cell_type": "code",
   "execution_count": null,
   "metadata": {
    "scrolled": true
   },
   "outputs": [],
   "source": [
    "cap = cv2.VideoCapture(0)\n",
    "\n",
    "with mp_hands.Hands(static_image_mode=False,min_detection_confidence=0.8, min_tracking_confidence=0.5) as hands: \n",
    "    while cap.isOpened():\n",
    "        ret, frame = cap.read()\n",
    "        \n",
    "        # BGR 2 RGB\n",
    "        image = cv2.cvtColor(frame, cv2.COLOR_BGR2RGB)\n",
    "        \n",
    "        # Flip on horizontal\n",
    "        image = cv2.flip(image, 1)\n",
    "        \n",
    "        # Set flag\n",
    "        image.flags.writeable = False\n",
    "        \n",
    "        # Detections\n",
    "        results = hands.process(image)\n",
    "        \n",
    "        # Set flag to true\n",
    "        image.flags.writeable = True\n",
    "        \n",
    "        # RGB 2 BGR\n",
    "        image = cv2.cvtColor(image, cv2.COLOR_RGB2BGR)\n",
    "        \n",
    "#         print('Handedness:', results.multi_handedness)\n",
    "\n",
    "        #Get image H ,W\n",
    "        image_height, image_width, _ = image.shape\n",
    "        \n",
    "        # Rendering results\n",
    "        if results.multi_hand_landmarks:\n",
    "            for num, hand_landmarks  in enumerate(results.multi_hand_landmarks):\n",
    "#                 print('hand_landmarks:', hand_landmarks)\n",
    "                print(\n",
    "                    f'Index finger tip coordinates: (',\n",
    "                    f'{hand_landmarks.landmark[mp_hands.HandLandmark.INDEX_FINGER_TIP].x * image_width}, '\n",
    "                    f'{hand_landmarks.landmark[mp_hands.HandLandmark.INDEX_FINGER_TIP].y * image_height}) '\n",
    "                    f'{abs(hand_landmarks.landmark[mp_hands.HandLandmark.INDEX_FINGER_TIP].z*100)})'\n",
    "                )\n",
    "                mp_drawing.draw_landmarks(image, hand_landmarks, mp_hands.HAND_CONNECTIONS, \n",
    "#                                         mp_drawing.DrawingSpec(color=(121, 22, 76), thickness=2, circle_radius=4),\n",
    "#                                         mp_drawing.DrawingSpec(color=(250, 44, 250), thickness=2, circle_radius=2),)\n",
    "                                      createLandMarks(hand_landmarks),\n",
    "                                      mp_drawing_styles.get_default_hand_connections_style())\n",
    "                    \n",
    "        plot = np.zeros([image_height, image_width, 3], dtype=np.uint8)                \n",
    "        if results.multi_hand_world_landmarks:\n",
    "            for num,hand_world_landmarks in enumerate(results.multi_hand_world_landmarks):                \n",
    "                for idx,landMrk in enumerate(hand_world_landmarks.landmark):\n",
    "                    hand_world_landmarks.landmark[idx].x += 0.5\n",
    "                    hand_world_landmarks.landmark[idx].y += 0.5\n",
    "                mp_drawing.draw_landmarks(plot,hand_world_landmarks, mp_hands.HAND_CONNECTIONS)\n",
    "#                 mp_drawing.plot_landmarks(hand_world_landmarks, mp_hands.HAND_CONNECTIONS, azimuth=5)\n",
    "        \n",
    "        cv2.imshow('Plot', plot)\n",
    "        cv2.imshow('Hand Tracking', image)        \n",
    "\n",
    "        if cv2.waitKey(10) & 0xFF == ord('q'):\n",
    "            break\n",
    "\n",
    "cap.release()\n",
    "cv2.destroyAllWindows()"
   ]
  }
 ],
 "metadata": {
  "kernelspec": {
   "display_name": "Python 3",
   "language": "python",
   "name": "python3"
  },
  "language_info": {
   "codemirror_mode": {
    "name": "ipython",
    "version": 3
   },
   "file_extension": ".py",
   "mimetype": "text/x-python",
   "name": "python",
   "nbconvert_exporter": "python",
   "pygments_lexer": "ipython3",
   "version": "3.8.5"
  }
 },
 "nbformat": 4,
 "nbformat_minor": 2
}
